{
 "cells": [
  {
   "cell_type": "code",
   "execution_count": 1,
   "id": "94c14399",
   "metadata": {
    "_cell_guid": "b1076dfc-b9ad-4769-8c92-a6c4dae69d19",
    "_uuid": "8f2839f25d086af736a60e9eeb907d3b93b6e0e5",
    "execution": {
     "iopub.execute_input": "2025-09-21T06:21:12.569710Z",
     "iopub.status.busy": "2025-09-21T06:21:12.569377Z",
     "iopub.status.idle": "2025-09-21T06:21:14.509523Z",
     "shell.execute_reply": "2025-09-21T06:21:14.508456Z"
    },
    "papermill": {
     "duration": 1.945571,
     "end_time": "2025-09-21T06:21:14.511134",
     "exception": false,
     "start_time": "2025-09-21T06:21:12.565563",
     "status": "completed"
    },
    "tags": []
   },
   "outputs": [
    {
     "name": "stdout",
     "output_type": "stream",
     "text": [
      "/kaggle/input/linkedin-job-data/linkdin_Job_data.xlsx\n",
      "/kaggle/input/linkedin-job-data/linkdin_Job_data.csv\n"
     ]
    }
   ],
   "source": [
    "# This Python 3 environment comes with many helpful analytics libraries installed\n",
    "# It is defined by the kaggle/python Docker image: https://github.com/kaggle/docker-python\n",
    "# For example, here's several helpful packages to load\n",
    "\n",
    "import numpy as np # linear algebra\n",
    "import pandas as pd # data processing, CSV file I/O (e.g. pd.read_csv)\n",
    "\n",
    "# Input data files are available in the read-only \"../input/\" directory\n",
    "# For example, running this (by clicking run or pressing Shift+Enter) will list all files under the input directory\n",
    "\n",
    "import os\n",
    "for dirname, _, filenames in os.walk('/kaggle/input'):\n",
    "    for filename in filenames:\n",
    "        print(os.path.join(dirname, filename))\n",
    "\n",
    "# You can write up to 20GB to the current directory (/kaggle/working/) that gets preserved as output when you create a version using \"Save & Run All\" \n",
    "# You can also write temporary files to /kaggle/temp/, but they won't be saved outside of the current session"
   ]
  },
  {
   "cell_type": "code",
   "execution_count": 2,
   "id": "2f675e51",
   "metadata": {
    "execution": {
     "iopub.execute_input": "2025-09-21T06:21:14.517377Z",
     "iopub.status.busy": "2025-09-21T06:21:14.516971Z",
     "iopub.status.idle": "2025-09-21T06:21:16.512160Z",
     "shell.execute_reply": "2025-09-21T06:21:16.511192Z"
    },
    "papermill": {
     "duration": 1.999982,
     "end_time": "2025-09-21T06:21:16.513874",
     "exception": false,
     "start_time": "2025-09-21T06:21:14.513892",
     "status": "completed"
    },
    "tags": []
   },
   "outputs": [
    {
     "name": "stdout",
     "output_type": "stream",
     "text": [
      "Setup Complete\n"
     ]
    }
   ],
   "source": [
    "#Visualization set up\n",
    "import pandas as pd\n",
    "pd.plotting.register_matplotlib_converters()\n",
    "import matplotlib.pyplot as plt\n",
    "%matplotlib inline\n",
    "import seaborn as sns\n",
    "print(\"Setup Complete\")\n",
    "\n"
   ]
  },
  {
   "cell_type": "code",
   "execution_count": 3,
   "id": "5b993e0f",
   "metadata": {
    "execution": {
     "iopub.execute_input": "2025-09-21T06:21:16.520306Z",
     "iopub.status.busy": "2025-09-21T06:21:16.519482Z",
     "iopub.status.idle": "2025-09-21T06:21:18.789955Z",
     "shell.execute_reply": "2025-09-21T06:21:18.788843Z"
    },
    "papermill": {
     "duration": 2.275332,
     "end_time": "2025-09-21T06:21:18.791591",
     "exception": false,
     "start_time": "2025-09-21T06:21:16.516259",
     "status": "completed"
    },
    "tags": []
   },
   "outputs": [
    {
     "name": "stdout",
     "output_type": "stream",
     "text": [
      "Columns to keep: ['job_ID', 'job', 'location', 'company_name', 'work_type', 'full_time_remote', 'no_of_employ', 'no_of_application', 'posted_day_ago', 'alumni', 'Hiring_person', 'linkedin_followers', 'hiring_person_link', 'job_details']\n"
     ]
    },
    {
     "data": {
      "text/html": [
       "<div>\n",
       "<style scoped>\n",
       "    .dataframe tbody tr th:only-of-type {\n",
       "        vertical-align: middle;\n",
       "    }\n",
       "\n",
       "    .dataframe tbody tr th {\n",
       "        vertical-align: top;\n",
       "    }\n",
       "\n",
       "    .dataframe thead th {\n",
       "        text-align: right;\n",
       "    }\n",
       "</style>\n",
       "<table border=\"1\" class=\"dataframe\">\n",
       "  <thead>\n",
       "    <tr style=\"text-align: right;\">\n",
       "      <th></th>\n",
       "      <th>job_ID</th>\n",
       "      <th>job</th>\n",
       "      <th>location</th>\n",
       "      <th>company_name</th>\n",
       "      <th>work_type</th>\n",
       "      <th>no_of_employ</th>\n",
       "      <th>no_of_application</th>\n",
       "      <th>posted_day_ago</th>\n",
       "      <th>alumni</th>\n",
       "      <th>Hiring_person</th>\n",
       "      <th>linkedin_followers</th>\n",
       "      <th>hiring_person_link</th>\n",
       "      <th>job_details</th>\n",
       "      <th>employment_type</th>\n",
       "      <th>seniority_level</th>\n",
       "    </tr>\n",
       "  </thead>\n",
       "  <tbody>\n",
       "    <tr>\n",
       "      <th>0</th>\n",
       "      <td>3471657636</td>\n",
       "      <td>Data Analyst, Trilogy (Remote) - $60,000/year USD</td>\n",
       "      <td>Delhi, Delhi, India</td>\n",
       "      <td>Crossover</td>\n",
       "      <td>Remote</td>\n",
       "      <td>1,001-5,000 employees · IT Services and IT Con...</td>\n",
       "      <td>200</td>\n",
       "      <td>8 hours</td>\n",
       "      <td>12 company alumni</td>\n",
       "      <td>None</td>\n",
       "      <td>5,395,547 followers</td>\n",
       "      <td>None</td>\n",
       "      <td>About the job Crossover is the world's #1 sour...</td>\n",
       "      <td>Full-time</td>\n",
       "      <td>Associate</td>\n",
       "    </tr>\n",
       "    <tr>\n",
       "      <th>1</th>\n",
       "      <td>3474349934</td>\n",
       "      <td>Data Analyst - WFH</td>\n",
       "      <td>Greater Bengaluru Area</td>\n",
       "      <td>Uplers</td>\n",
       "      <td>Remote</td>\n",
       "      <td>1,001-5,000 employees · IT Services and IT Con...</td>\n",
       "      <td>200</td>\n",
       "      <td>9 hours</td>\n",
       "      <td>3 company alumni</td>\n",
       "      <td>Shahid Ahmad</td>\n",
       "      <td>None</td>\n",
       "      <td>https://www.linkedin.com/in/shahid-ahmad-a2613...</td>\n",
       "      <td>About the job Profile: ML EngineersExperience:...</td>\n",
       "      <td>Full-time</td>\n",
       "      <td>Mid-Senior level</td>\n",
       "    </tr>\n",
       "    <tr>\n",
       "      <th>2</th>\n",
       "      <td>3472816027</td>\n",
       "      <td>Data Analyst</td>\n",
       "      <td>Gurugram, Haryana, India</td>\n",
       "      <td>PVAR SERVICES</td>\n",
       "      <td>On-site</td>\n",
       "      <td>1-10 employees</td>\n",
       "      <td>200</td>\n",
       "      <td>7 hours</td>\n",
       "      <td>None</td>\n",
       "      <td>Vartika Singh</td>\n",
       "      <td>2,094 followers</td>\n",
       "      <td>https://www.linkedin.com/in/vartika-singh-</td>\n",
       "      <td>About the job Designation: Data AnalystLocatio...</td>\n",
       "      <td>Full-time</td>\n",
       "      <td>None</td>\n",
       "    </tr>\n",
       "    <tr>\n",
       "      <th>3</th>\n",
       "      <td>3473311511</td>\n",
       "      <td>Data Analyst</td>\n",
       "      <td>Mohali district, Punjab, India</td>\n",
       "      <td>Timeline Freight Brokers</td>\n",
       "      <td>On-site</td>\n",
       "      <td>1-10 employees</td>\n",
       "      <td>8</td>\n",
       "      <td>26 minutes</td>\n",
       "      <td>1 company alumni</td>\n",
       "      <td>Manisha (Gisele Smith)</td>\n",
       "      <td>None</td>\n",
       "      <td>https://www.linkedin.com/in/manisharathore0029</td>\n",
       "      <td>About the job The ideal candidate will use the...</td>\n",
       "      <td>Full-time</td>\n",
       "      <td>None</td>\n",
       "    </tr>\n",
       "    <tr>\n",
       "      <th>4</th>\n",
       "      <td>3472504479</td>\n",
       "      <td>Data Analyst</td>\n",
       "      <td>Gurugram, Haryana, India</td>\n",
       "      <td>airtel</td>\n",
       "      <td>On-site</td>\n",
       "      <td>10,001+ employees · Telecommunications</td>\n",
       "      <td>200</td>\n",
       "      <td>10 hours</td>\n",
       "      <td>132 company alumni</td>\n",
       "      <td>None</td>\n",
       "      <td>972,657 followers</td>\n",
       "      <td>None</td>\n",
       "      <td>About the job The ideal candidate will use the...</td>\n",
       "      <td>Full-time</td>\n",
       "      <td>Entry level</td>\n",
       "    </tr>\n",
       "  </tbody>\n",
       "</table>\n",
       "</div>"
      ],
      "text/plain": [
       "       job_ID                                                job  \\\n",
       "0  3471657636  Data Analyst, Trilogy (Remote) - $60,000/year USD   \n",
       "1  3474349934                                 Data Analyst - WFH   \n",
       "2  3472816027                                       Data Analyst   \n",
       "3  3473311511                                       Data Analyst   \n",
       "4  3472504479                                       Data Analyst   \n",
       "\n",
       "                         location              company_name work_type  \\\n",
       "0             Delhi, Delhi, India                 Crossover    Remote   \n",
       "1          Greater Bengaluru Area                    Uplers    Remote   \n",
       "2        Gurugram, Haryana, India             PVAR SERVICES   On-site   \n",
       "3  Mohali district, Punjab, India  Timeline Freight Brokers   On-site   \n",
       "4        Gurugram, Haryana, India                    airtel   On-site   \n",
       "\n",
       "                                        no_of_employ no_of_application  \\\n",
       "0  1,001-5,000 employees · IT Services and IT Con...               200   \n",
       "1  1,001-5,000 employees · IT Services and IT Con...               200   \n",
       "2                                     1-10 employees               200   \n",
       "3                                     1-10 employees                 8   \n",
       "4             10,001+ employees · Telecommunications               200   \n",
       "\n",
       "  posted_day_ago              alumni           Hiring_person  \\\n",
       "0        8 hours   12 company alumni                    None   \n",
       "1        9 hours    3 company alumni            Shahid Ahmad   \n",
       "2        7 hours                None           Vartika Singh   \n",
       "3     26 minutes    1 company alumni  Manisha (Gisele Smith)   \n",
       "4       10 hours  132 company alumni                    None   \n",
       "\n",
       "    linkedin_followers                                 hiring_person_link  \\\n",
       "0  5,395,547 followers                                               None   \n",
       "1                 None  https://www.linkedin.com/in/shahid-ahmad-a2613...   \n",
       "2      2,094 followers         https://www.linkedin.com/in/vartika-singh-   \n",
       "3                 None     https://www.linkedin.com/in/manisharathore0029   \n",
       "4    972,657 followers                                               None   \n",
       "\n",
       "                                         job_details employment_type  \\\n",
       "0  About the job Crossover is the world's #1 sour...       Full-time   \n",
       "1  About the job Profile: ML EngineersExperience:...       Full-time   \n",
       "2  About the job Designation: Data AnalystLocatio...       Full-time   \n",
       "3  About the job The ideal candidate will use the...       Full-time   \n",
       "4  About the job The ideal candidate will use the...       Full-time   \n",
       "\n",
       "    seniority_level  \n",
       "0         Associate  \n",
       "1  Mid-Senior level  \n",
       "2              None  \n",
       "3              None  \n",
       "4       Entry level  "
      ]
     },
     "execution_count": 3,
     "metadata": {},
     "output_type": "execute_result"
    }
   ],
   "source": [
    "# -----------------------------\n",
    "# 1. Import libraries and set up SQLite\n",
    "# -----------------------------\n",
    "import pandas as pd\n",
    "from sqlalchemy import create_engine, text\n",
    "\n",
    "# -----------------------------\n",
    "# 2. Load CSV\n",
    "# -----------------------------\n",
    "linkedin_filepath = \"/kaggle/input/linkedin-job-data/linkdin_Job_data.csv\"\n",
    "linkedin_data = pd.read_csv(linkedin_filepath)\n",
    "\n",
    "# -----------------------------\n",
    "# 3. Create SQLite in-memory engine and load DataFrame into SQL\n",
    "# -----------------------------\n",
    "engine = create_engine(\"sqlite://\", echo=False)\n",
    "linkedin_data.to_sql(\"my_table\", con=engine, index=False, if_exists=\"replace\")\n",
    "\n",
    "# -----------------------------\n",
    "# 4. Identify columns that are not completely NULL\n",
    "# -----------------------------\n",
    "columns = linkedin_data.columns.tolist()\n",
    "columns_to_keep = []\n",
    "\n",
    "with engine.connect() as conn:\n",
    "    for col in columns:\n",
    "        result = conn.execute(\n",
    "            text(f'SELECT COUNT([{col}]) AS non_null_count FROM my_table')\n",
    "        ).fetchone()\n",
    "        if result[0] > 0:\n",
    "            columns_to_keep.append(col)\n",
    "\n",
    "print(\"Columns to keep:\", columns_to_keep)\n",
    "\n",
    "# -----------------------------\n",
    "# 5. Create a cleaned table with only non-null columns\n",
    "# -----------------------------\n",
    "cols_str = \", \".join([f'[{c}]' for c in columns_to_keep])\n",
    "with engine.connect() as conn:\n",
    "    conn.execute(text(f'CREATE TABLE my_table_clean AS SELECT {cols_str} FROM my_table'))\n",
    "\n",
    "# -----------------------------\n",
    "# 6. Load cleaned table into pandas\n",
    "# -----------------------------\n",
    "with engine.connect() as conn:\n",
    "    cleaned_df = pd.read_sql(\"SELECT * FROM my_table_clean\", conn)\n",
    "\n",
    "# -----------------------------\n",
    "# 7. Remove duplicates based on Job Title + Company Name\n",
    "# -----------------------------\n",
    "dedup_df = cleaned_df.drop_duplicates(subset=[\"job\", \"company_name\"]).reset_index(drop=True)\n",
    "\n",
    "# Store the deduplicated table back into SQLite\n",
    "dedup_df.to_sql(\"my_table_dedup\", con=engine, index=False, if_exists=\"replace\")\n",
    "\n",
    "# -----------------------------\n",
    "# 8. Preview final deduplicated table\n",
    "# -----------------------------\n",
    "with engine.connect() as conn:\n",
    "    final_df = pd.read_sql(\"SELECT * FROM my_table_dedup\", conn)\n",
    "\n",
    "# -----------------------------\n",
    "# 9. Split full_time_remote into two separate columns\n",
    "# -----------------------------\n",
    "if \"full_time_remote\" in final_df.columns:\n",
    "    final_df[[\"employment_type\", \"seniority_level\"]] = (\n",
    "        final_df[\"full_time_remote\"]\n",
    "        .str.split(\"·\", n=1, expand=True)   # split into 2 parts max\n",
    "        .apply(lambda col: col.str.strip()) # remove surrounding spaces\n",
    "    )\n",
    "    # Drop the original column\n",
    "    final_df = final_df.drop(columns=[\"full_time_remote\"])\n",
    "\n",
    "# -----------------------------\n",
    "# 10. Store updated dataset back into SQLite\n",
    "# -----------------------------\n",
    "final_df.to_sql(\"my_table_updated\", con=engine, index=False, if_exists=\"replace\")\n",
    "\n",
    "# -----------------------------\n",
    "# 11. Preview updated dataset\n",
    "# -----------------------------\n",
    "with engine.connect() as conn:\n",
    "    updated_df = pd.read_sql(\"SELECT * FROM my_table_updated\", conn)\n",
    "\n",
    "updated_df.head()\n"
   ]
  },
  {
   "cell_type": "code",
   "execution_count": 4,
   "id": "cb9142f3",
   "metadata": {
    "execution": {
     "iopub.execute_input": "2025-09-21T06:21:18.798552Z",
     "iopub.status.busy": "2025-09-21T06:21:18.798217Z",
     "iopub.status.idle": "2025-09-21T06:21:19.049001Z",
     "shell.execute_reply": "2025-09-21T06:21:19.048051Z"
    },
    "papermill": {
     "duration": 0.256287,
     "end_time": "2025-09-21T06:21:19.050735",
     "exception": false,
     "start_time": "2025-09-21T06:21:18.794448",
     "status": "completed"
    },
    "tags": []
   },
   "outputs": [
    {
     "data": {
      "text/plain": [
       "<Axes: xlabel='work_type', ylabel='count'>"
      ]
     },
     "execution_count": 4,
     "metadata": {},
     "output_type": "execute_result"
    },
    {
     "data": {
      "image/png": "[encoded data removed]",
      "text/plain": [
       "<Figure size 640x480 with 1 Axes>"
      ]
     },
     "metadata": {},
     "output_type": "display_data"
    }
   ],
   "source": [
    "sns.countplot(data=linkedin_data, x='work_type', )"
   ]
  },
  {
   "cell_type": "code",
   "execution_count": 5,
   "id": "2a3d371c",
   "metadata": {
    "execution": {
     "iopub.execute_input": "2025-09-21T06:21:19.057974Z",
     "iopub.status.busy": "2025-09-21T06:21:19.057686Z",
     "iopub.status.idle": "2025-09-21T06:21:19.289307Z",
     "shell.execute_reply": "2025-09-21T06:21:19.288425Z"
    },
    "papermill": {
     "duration": 0.237319,
     "end_time": "2025-09-21T06:21:19.291157",
     "exception": false,
     "start_time": "2025-09-21T06:21:19.053838",
     "status": "completed"
    },
    "tags": []
   },
   "outputs": [
    {
     "data": {
      "text/plain": [
       "<Axes: xlabel='work_type', ylabel='count'>"
      ]
     },
     "execution_count": 5,
     "metadata": {},
     "output_type": "execute_result"
    },
    {
     "data": {
      "image/png": "[encoded data removed]",
      "text/plain": [
       "<Figure size 640x480 with 1 Axes>"
      ]
     },
     "metadata": {},
     "output_type": "display_data"
    }
   ],
   "source": [
    "\n",
    "sns.countplot(data=final_df, x='work_type'  )"
   ]
  },
  {
   "cell_type": "code",
   "execution_count": 6,
   "id": "8c6b86b7",
   "metadata": {
    "execution": {
     "iopub.execute_input": "2025-09-21T06:21:19.300351Z",
     "iopub.status.busy": "2025-09-21T06:21:19.300063Z",
     "iopub.status.idle": "2025-09-21T06:21:19.940313Z",
     "shell.execute_reply": "2025-09-21T06:21:19.939133Z"
    },
    "papermill": {
     "duration": 0.647421,
     "end_time": "2025-09-21T06:21:19.942177",
     "exception": false,
     "start_time": "2025-09-21T06:21:19.294756",
     "status": "completed"
    },
    "tags": []
   },
   "outputs": [
    {
     "name": "stderr",
     "output_type": "stream",
     "text": [
      "/usr/local/lib/python3.11/dist-packages/seaborn/axisgrid.py:118: UserWarning: The figure layout has changed to tight\n",
      "  self._figure.tight_layout(*args, **kwargs)\n"
     ]
    },
    {
     "data": {
      "image/png": "[encoded data removed]",
      "text/plain": [
       "<Figure size 961.125x400 with 2 Axes>"
      ]
     },
     "metadata": {},
     "output_type": "display_data"
    }
   ],
   "source": [
    "import seaborn as sns\n",
    "import matplotlib.pyplot as plt\n",
    "\n",
    "# Filter for only Full-time and Contract positions\n",
    "subset_df = final_df[final_df[\"employment_type\"].isin([\"Full-time\", \"Contract\"])]\n",
    "\n",
    "# Facet by employment_type\n",
    "g = sns.catplot(\n",
    "    data=subset_df,\n",
    "    x=\"work_type\",\n",
    "    hue=\"seniority_level\",\n",
    "    col=\"employment_type\",   # now only Full-time and Contract will appear\n",
    "    kind=\"count\",\n",
    "    height=4,\n",
    "    aspect=1\n",
    ")\n",
    "\n",
    "plt.show()\n"
   ]
  }
 ],
 "metadata": {
  "kaggle": {
   "accelerator": "none",
   "dataSources": [
    {
     "datasetId": 3490270,
     "sourceId": 6094426,
     "sourceType": "datasetVersion"
    }
   ],
   "dockerImageVersionId": 31089,
   "isGpuEnabled": false,
   "isInternetEnabled": false,
   "language": "python",
   "sourceType": "notebook"
  },
  "kernelspec": {
   "display_name": "Python 3",
   "language": "python",
   "name": "python3"
  },
  "language_info": {
   "codemirror_mode": {
    "name": "ipython",
    "version": 3
   },
   "file_extension": ".py",
   "mimetype": "text/x-python",
   "name": "python",
   "nbconvert_exporter": "python",
   "pygments_lexer": "ipython3",
   "version": "3.11.13"
  },
  "papermill": {
   "default_parameters": {},
   "duration": 13.761379,
   "end_time": "2025-09-21T06:21:20.786790",
   "environment_variables": {},
   "exception": null,
   "input_path": "__notebook__.ipynb",
   "output_path": "__notebook__.ipynb",
   "parameters": {},
   "start_time": "2025-09-21T06:21:07.025411",
   "version": "2.6.0"
  }
 },
 "nbformat": 4,
 "nbformat_minor": 5
}
